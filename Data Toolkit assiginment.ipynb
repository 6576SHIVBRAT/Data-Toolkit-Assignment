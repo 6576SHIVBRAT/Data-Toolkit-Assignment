{
  "nbformat": 4,
  "nbformat_minor": 0,
  "metadata": {
    "colab": {
      "provenance": []
    },
    "kernelspec": {
      "name": "python3",
      "display_name": "Python 3"
    },
    "language_info": {
      "name": "python"
    }
  },
  "cells": [
    {
      "cell_type": "code",
      "execution_count": null,
      "metadata": {
        "id": "KpPa5Nf6hxy7"
      },
      "outputs": [],
      "source": [
        "                                                      # Data Toolkit\n",
        "                                                    #Assignment Questions"
      ]
    },
    {
      "cell_type": "code",
      "source": [
        "#Q1. What is NumPy, and why is it widely used in Python?\n",
        "#Answer. NumPy (Numerical Python) is a fundamental package for scientific computing in Python. It provides support for:\n",
        "\n",
        " #1. Multidimensional Arrays\n",
        "\n",
        "#At its core, NumPy introduces the powerful ndarray (n-dimensional array) object, which is much more efficient and convenient than Python's built-in lists for numerical operations.\n",
        "\n",
        " #2. Performance\n",
        "\n",
        "#Speed: NumPy operations are implemented in C, making them much faster than equivalent Python loops.\n",
        "\n",
        "#ectorization: It allows you to apply operations to entire arrays at once, avoiding slow Python for loops.\n",
        "\n",
        " #3. Mathematical Functions\n",
        "\n",
        "#NumPy comes with a wide range of optimized mathematical functions for:\n",
        "\n",
        "#Linear algebra\n",
        "\n",
        "#Statistics\n",
        "\n",
        "#Fourier transforms\n",
        "\n",
        "#Random number generation\n",
        "\n",
        "# 4. Broadcasting\n",
        "\n",
        "#This allows arithmetic operations between arrays of different shapes, enabling concise and flexible code without explicit loops.\n",
        "\n",
        " #5. Integration\n",
        "\n",
        "#NumPy is the foundation for many other libraries in the data science and machine learning ecosystem, such as:\n",
        "\n",
        "#Pandas\n",
        "\n",
        "#SciPy\n",
        "\n",
        "#Scikit-learn\n",
        "\n",
        "#TensorFlow and PyTorch (for lower-level array manipulation)"
      ],
      "metadata": {
        "id": "pBYyogV5h4f2"
      },
      "execution_count": null,
      "outputs": []
    },
    {
      "cell_type": "code",
      "source": [
        "  #Q2.  How does broadcasting work in NumPy?\n",
        "  #Answer. Broadcasting in NumPy is a mechanism that allows arithmetic operations to be performed on arrays of different shapes and sizes. It enables element-wise operations without requiring explicit loops or making unnecessary copies of data, which enhances performance and memory efficiency.\n",
        "  #Dimension Alignment (Right to Left): NumPy compares the dimensions of the two arrays involved in the operation, starting from the trailing (rightmost) dimension and moving towards the leading (leftmost) dimension.\n",
        "#Compatibility Rules: For two dimensions to be compatible, they must meet one of the following criteria:\n",
        "#They are equal in size.\n",
        "###If dimensions are equal, no action is needed.\n",
        "#If one dimension has a size of 1, NumPy \"stretches\" or \"broadcasts\" that dimension to match the size of the other array's corresponding dimension. This is done conceptually without physically replicating data, saving memory.\n",
        "#If dimensions are not compatible (i.e., unequal and neither is 1), a ValueError is raised, indicating that the arrays cannot be broadcast together.\n",
        "#Implicit Dimension Expansion: If one array has fewer dimensions than the other, NumPy implicitly adds leading dimensions of size 1 to the smaller array to match the number of dimensions of the larger array before applying the compatibility rules.\n"
      ],
      "metadata": {
        "id": "A4WNPEnIh4cq"
      },
      "execution_count": null,
      "outputs": []
    },
    {
      "cell_type": "code",
      "source": [
        "# Q3. What is a Pandas DataFrame?\n",
        "#Answer. A Pandas DataFrame is a two-dimensional, size-mutable, and potentially heterogeneous tabular data structure in the Python programming language, provided by the Pandas library. It is one of the primary data structures in Pandas and is widely used for data manipulation and analysis.\n",
        "#Key characteristics of a Pandas DataFrame:\n",
        "#Two-dimensional: It organizes data in a table-like structure with rows and columns, similar to a spreadsheet or a SQL table.\n",
        "#Labeled axes: Both rows and columns have labels (or indices), allowing for easy access and manipulation of data by name or position.\n",
        "#Potentially heterogeneous: Columns can contain different data types (e.g., integers, floats, strings, booleans), while all elements within a single column typically share the same data type.\n",
        "#Size-mutable: DataFrames can be modified after creation; rows and columns can be added, deleted, or altered.\n",
        "#Analogy:\n",
        "#Think of a DataFrame as a highly versatile and powerful spreadsheet within Python. Each column represents a variable, and each row represents an observation or record.\n",
        "#How it's used:\n",
        "#DataFrames are fundamental in data science and machine learning workflows for tasks such as:\n",
        "#Data loading and storage: Importing data from various sources like CSV files, Excel spreadsheets, or databases.\n",
        "#Data cleaning and preprocessing: Handling missing values, removing duplicates, transforming data types.\n",
        "#Data exploration and analysis: Calculating summary statistics, filtering and selecting subsets of data, performing aggregations.\n",
        "#Data visualization: Preparing data for plotting and creating various types of charts."
      ],
      "metadata": {
        "id": "ut3Cvfvbh4Z0"
      },
      "execution_count": null,
      "outputs": []
    },
    {
      "cell_type": "code",
      "source": [
        "# Q4. Explain the use of the groupby() method in Pandas?\n",
        "#Answer. The groupby() method in Pandas is a powerful function used for splitting a DataFrame into groups based on one or more criteria, applying a function to each group independently, and combining the results into a new DataFrame or Series. This \"split-apply-combine\" strategy is central to data analysis with Pandas.\n",
        "#Core Functionality:\n",
        "#Splitting: The groupby() method divides the DataFrame into separate groups based on the unique values in the specified column(s). For example, grouping by a \"Continent\" column would create a distinct group for each continent present in the data.\n",
        "#Applying: After splitting, a function is applied to each individual group. This function can be:\n",
        "#Aggregation: Computing a summary statistic like sum(), mean(), count(), min(), max(), median(), etc.\n",
        "#Transformation: Performing group-specific calculations that return a result with the same index as the original group, such as standardizing data within each group or filling missing values based on group statistics.\n",
        "#Filtration: Discarding entire groups based on a condition, like keeping only groups with a certain number of members or meeting a specific aggregate criteria.\n",
        "#Combining: The results from applying the function to each group are then combined back into a single output, typically a new DataFrame or Series, where the grouping keys often become the index.\n",
        "#Key Uses:\n",
        "#Summarizing Data: Calculating aggregate statistics for different categories (e.g., average sales per region, total revenue per product category).\n",
        "#Categorical Analysis: Understanding trends or patterns within distinct groups of data.\n",
        "#Data Transformation: Applying group-specific operations like normalization or imputation.\n",
        "#Filtering Groups: Selecting or excluding groups based on their characteristics."
      ],
      "metadata": {
        "id": "VXSjNfRgh4XN"
      },
      "execution_count": null,
      "outputs": []
    },
    {
      "cell_type": "code",
      "source": [
        "# Q5. Why is Seaborn preferred for statistical visualizations?\n",
        "#Answer. Seaborn is a Python library built on Matplotlib that is widely preferred for statistical visualizations due to several key advantages:\n",
        "#Ease of Use for Statistical Plots: Seaborn simplifies the creation of complex statistical plots with a high-level, intuitive API. It abstracts away many of the lower-level details required by Matplotlib, allowing users to generate sophisticated visualizations with fewer lines of code.\n",
        "#Aesthetically Pleasing Defaults: Seaborn comes with attractive default themes and color palettes, resulting in visually appealing and publication-ready plots without extensive customization efforts. This saves time and ensures a professional appearance.\n",
        "#Integrated Statistical Functions: Seaborn seamlessly integrates statistical estimations and aggregations directly into its plotting functions. This allows for immediate insights into data distributions, relationships, and trends, such as automatically calculating and displaying regression lines or confidence intervals.\n",
        "#Strong Integration with Pandas DataFrames: Seaborn is designed to work efficiently with Pandas DataFrames, enabling direct plotting from structured data. This streamlines the data visualization workflow, as less data manipulation is required before plotting.\n",
        "#Specialized Statistical Plots: Seaborn offers a rich collection of specialized statistical plots, including violin plots, pair plots, heatmaps, joint plots, and more, which are specifically designed to reveal statistical relationships and patterns in data.\n",
        "#Focus on Dataset-Oriented API: Seaborn's dataset-oriented API allows users to focus on the meaning of different variables in their data and how they relate to each other, rather than the technical details of drawing the plot elements."
      ],
      "metadata": {
        "id": "cuEe4BxGh4Kw"
      },
      "execution_count": null,
      "outputs": []
    },
    {
      "cell_type": "code",
      "source": [
        "# Q6.  What are the differences between NumPy arrays and Python lists?\n",
        "#Answer. NumPy arrays (specifically ndarray objects) and Python lists are both used to store collections of data, but they differ significantly in their characteristics and use cases.\n",
        "#Key Differences:\n",
        "#Data Type Homogeneity:\n",
        "#NumPy Arrays: Store elements of a single, uniform data type (e.g., all integers, all floats). This homogeneity allows for efficient memory storage and vectorized operations.\n",
        "#Performance and Memory Efficiency:\n",
        "#NumPy Arrays: Offer significantly better performance for numerical computations, especially with large datasets, due to their fixed size, homogeneous data type, and underlying C implementation. They are more memory-efficient as they store data in contiguous memory blocks.\n",
        "#Python Lists: Can be less memory-efficient and slower for large-scale numerical operations because they store references to objects, which can be scattered in memory.\n",
        "#Functionality for Numerical Operations:\n",
        "#NumPy Arrays: Provide a rich set of built-in functions and methods for advanced mathematical and statistical operations (e.g., element-wise operations, linear algebra, Fourier transforms). They support broadcasting, enabling operations between arrays of different shapes.\n",
        "#Python Lists: Lack direct support for these advanced numerical operations. Performing such operations typically requires explicit loops, which are less efficient.\n",
        "#Flexibility and Modifiability:\n",
        "#NumPy Arrays: Are generally less flexible in terms of size modification once created. While elements can be changed, adding or removing elements efficiently is not a primary strength.\n",
        "#Python Lists: Offer greater flexibility for dynamic modification, including adding, removing, and inserting elements easily.\n",
        "#In Summary:\n",
        "#Python Lists are suitable for general-purpose tasks where data heterogeneity and dynamic size modification are required.\n",
        "#NumPy Arrays are optimized for numerical computations and scientific computing, offering superior performance and memory efficiency for large, homogeneous datasets."
      ],
      "metadata": {
        "id": "CPq0nEfbh4HW"
      },
      "execution_count": null,
      "outputs": []
    },
    {
      "cell_type": "code",
      "source": [
        "# Q7. What is a heatmap, and when should it be used?\n",
        "#ANSWER. A heatmap is a data visualization that uses colors to represent data density or intensity, making complex information easy to understand at a glance.\n",
        "# When to use a heatmap:\n",
        "#To visualize high-density data: When you have a lot of data points and want to quickly identify areas of high or low activity, a heatmap provides a clear visual summary of this information.\n",
        "#To understand user behavior on websites or apps: Track where users interact most (e.g., clicks, attention) and identify areas they ignore, allowing for data-driven improvements to layout and content.\n",
        "#To analyze geographic distributions: Show the intensity of phenomena like population density, crime rates, or disease outbreaks on a map.\n",
        "#To find patterns in complex datasets: Represent relationships between two variables, such as showing stock performance across different companies or identifying patterns in genetic data.\n",
        "#For financial and market analysis: Visualize performance metrics or track investments to identify trends and areas needing attention.\n",
        "#To improve marketing and conversion rates: Optimize marketing materials or websites by seeing what elements attract attention and drive actions."
      ],
      "metadata": {
        "id": "_9c2E6NTh3ZP"
      },
      "execution_count": null,
      "outputs": []
    },
    {
      "cell_type": "code",
      "source": [
        "# Q8.  What does the term “vectorized operation” mean in NumPy?\n",
        "#ANSWER. A vectorized operation in NumPy is the process of applying an operation to an entire array at once, rather than iterating through individual elements with a Python loop.\n",
        "#Contiguous memory storage: NumPy arrays store their elements in a single, contiguous block of memory. This allows the CPU to access the data much more quickly than it would for a standard Python list, which stores scattered object pointers.\n",
        "#Homogeneous data type: Because all elements in a NumPy array are of the same type (e.g., all integers or all floats), the interpreter does not need to perform constant type-checking for each element during an operation.\n",
        "#Single Instruction, Multiple Data (SIMD): Modern CPUs have vector registers that can perform the same operation on multiple pieces of data simultaneously. NumPy leverages these hardware-level instructions to process several array elements in a single instruction cycle"
      ],
      "metadata": {
        "id": "A9T-JkIah3V4"
      },
      "execution_count": null,
      "outputs": []
    },
    {
      "cell_type": "code",
      "source": [
        "# Q9.  How does Matplotlib differ from Plotly?\n",
        "#Answer. Matplotlib and Plotly are both popular Python libraries for data visualization, but they cater to different needs and use cases.\n",
        "#Matplotlib:\n",
        "#Static Visualizations: Matplotlib excels at creating highly customizable, static plots suitable for publications, reports, and presentations where interactivity is not required.\n",
        "#Fine-grained Control: It offers extensive control over every aspect of a plot, from fonts and colors to axis scales and margins, making it ideal for achieving precise aesthetic requirements.\n",
        "#Mature and Widely Used: As a long-established library, Matplotlib has a large community and a wealth of resources and examples available.\n",
        "#Script-based Approach: It encourages a more traditional, script-based approach to plotting, where you explicitly define each element of your visualization.\n",
        "#Plotly:\n",
        "#Interactive Visualizations: Plotly's primary strength lies in creating interactive plots that can be embedded in web applications, dashboards, and online reports. Features like zooming, panning, hovering for details, and toggling data series are built-in.\n",
        "#Ease of Use for Interactivity: Plotly Express, a higher-level API within Plotly, simplifies the creation of complex interactive plots with less code.\n",
        "#Web-focused: It is well-suited for projects where visualizations need to be shared and interacted with in a web environment.\n",
        "#Aesthetic Appeal: Plotly often produces visually appealing plots with built-in themes and styles, requiring less manual customization for a polished look.\n",
        "#Choosing between Matplotlib and Plotly:\n",
        "#Choose Matplotlib if: You need static, high-quality visualizations for academic papers, reports, or presentations where precise control and customization are paramount, and interactivity is not a primary concern.\n",
        "#Choose Plotly if: You are building interactive dashboards, web applications, or presentations where user interaction, dynamic exploration, and web-based sharing are essential. Plotly Express can be particularly beneficial for quickly generating interactive plots from dataframes."
      ],
      "metadata": {
        "id": "dGkQWFXHh3Tm"
      },
      "execution_count": null,
      "outputs": []
    },
    {
      "cell_type": "code",
      "source": [
        "# Q10. What is the significance of hierarchical indexing in Pandas?\n",
        "#Answer. Hierarchical indexing, or MultiIndex, is significant in Pandas because it allows for the manipulation and analysis of higher-dimensional data within lower-dimensional structures like Series and DataFrames\n",
        "#Key Benefits of Hierarchical Indexing:\n",
        "#Handling Higher-Dimensional Data: It transforms high-dimensional data into lower-dimensional structures (like DataFrames), making it easier to store and work with.\n",
        "#Advanced Data Selection: MultiIndex allows for complex data slicing and dicing using multiple indexers, including labels, lists, and slices, to pinpoint specific data points within nested categories.\n",
        "#Efficient Data Aggregation and Organization: It provides a mechanism to organize data with parent-child relationships, allowing for quick grouping and aggregation of related data without the need for explicit groupby() operations.\n",
        "#Preserving Relationships: The multi-level index maintains the structured relationships between different categories or groups within the data, treating them as atomic entities.\n",
        "#Flexibility for Complex Analysis: It provides a flexible framework for conducting advanced data analysis and manipulation, particularly when data has nested or hierarchical structures, such as employees within departments within locations.\n",
        "#Streamlined Querying: Hierarchical indexing can lead to more optimized and streamlined queries by allowing direct selection based on the defined hierarchy."
      ],
      "metadata": {
        "id": "IWeHa8XGh3Q-"
      },
      "execution_count": null,
      "outputs": []
    },
    {
      "cell_type": "code",
      "source": [
        "# Q11. What is the role of Seaborn’s pairplot() function?\n",
        "#Answer. Seaborn's pairplot() function is a powerful tool for exploratory data analysis (EDA) in Python. Its primary role is to visualize the pairwise relationships between multiple variables in a dataset.\n",
        "#Pairwise Bivariate Distributions: It automatically generates a grid of plots, where each off-diagonal plot displays the relationship between two different variables (typically as scatter plots). This allows for a quick visual inspection of correlations, trends, and patterns between all possible pairs of numerical features in your dataset.\n",
        "#Univariate Distributions on the Diagonal: The diagonal plots in the grid are reserved for the univariate distribution of each individual variable. By default, these are often represented as histograms or kernel density estimates (KDEs), providing insights into the distribution, central tendency, and spread of each feature independently.\n",
        "#High-Level Overview: pairplot() offers a \"bird's-eye view\" of the dataset, enabling quick identification of potential relationships, outliers, and data structures that might not be immediately apparent from raw data or individual plots.\n",
        "#Facilitates Exploratory Data Analysis: It is particularly useful during the initial stages of data analysis, helping data scientists and analysts gain a comprehensive understanding of their data's characteristics and inform further analysis or model building.\n",
        "#In essence, pairplot() streamlines the process of visualizing multiple relationships and distributions within a dataset, saving time and effort compared to creating individual plots for each pair of variables.\n"
      ],
      "metadata": {
        "id": "woyZqPgsh3OK"
      },
      "execution_count": null,
      "outputs": []
    },
    {
      "cell_type": "code",
      "source": [
        "# Q12. What is the purpose of the describe() function in Pandas?\n",
        "#Answer. The describe() function in Pandas is used to generate descriptive statistics that summarize the central tendency, dispersion, and shape of a dataset's distribution, excluding NaN values. It provides a quick overview of the data, which is essential for exploratory data analysis.\n",
        "#The describe() function is a powerful tool for quickly understanding the basic characteristics of a dataset, identifying potential issues like missing values or outliers, and gaining initial insights into data distributions.\n",
        "#For numerical columns (default behavior):\n",
        "#count: The number of non-null values.\n",
        "#mean: The average value.\n",
        "#std: The standard deviation, indicating the spread of the data.\n",
        "#min: The minimum value.\n",
        "#25% (Q1): The first quartile (25th percentile).\n",
        "#50% (Q2): The median (50th percentile).\n",
        "#75% (Q3): The third quartile (75th percentile).\n",
        "#max: The maximum value."
      ],
      "metadata": {
        "id": "c76I2AM8h3LE"
      },
      "execution_count": null,
      "outputs": []
    },
    {
      "cell_type": "code",
      "source": [
        "# Q13. Why is handling missing data important in Pandas?\n",
        "#Answer.Handling missing data in Pandas is crucial for several reasons:\n",
        "#Ensuring Data Integrity and Accuracy: Missing values, often represented as NaN (Not a Number) or NaT (Not a Time) in Pandas, can skew statistical calculations, lead to inaccurate analyses, and ultimately result in misleading conclusions. For example, calculating an average with missing values can produce an incorrect mean if the missingness is not random.\n",
        "#Compatibility with Algorithms and Models: Many statistical methods and machine learning algorithms are designed to work with complete datasets and cannot directly handle missing values. Ignoring or improperly handling them can lead to errors, reduced model performance, or the inability to use certain algorithms at all.\n",
        "#Preventing Bias: The way data is missing can introduce bias into an analysis. If data is missing systematically (e.g., certain demographics are more likely to omit specific information), simply removing rows with missing values can lead to a biased sample and conclusions that do not accurately reflect the underlying population.\n",
        "#Maintaining Sample Size and Statistical Power: Arbitrarily dropping rows or columns with missing data can significantly reduce the sample size, potentially diminishing the statistical power of the analysis and making it harder to detect meaningful relationships or effects.\n",
        "#Facilitating Effective Data Preprocessing: Handling missing data is a fundamental step in data preprocessing, ensuring that the dataset is clean, consistent, and ready for further analysis, visualization, or model building. Pandas provides robust tools like dropna(), fillna(), and interpolate() to address missing values in various ways, allowing for informed decisions on how to manage these gaps based on the nature of the data and the goals of the analysis."
      ],
      "metadata": {
        "id": "k2ie-0DSh3JB"
      },
      "execution_count": null,
      "outputs": []
    },
    {
      "cell_type": "code",
      "source": [
        "# Q14.  What are the benefits of using Plotly for data visualization?\n",
        "# ANSWER. Plotly is a powerful, open-source library for creating interactive and visually appealing data visualizations. Unlike static images produced by other libraries, Plotly's web-based graphs allow for deep data exploration through features like zooming, panning, and hovering over data points for specific information.\n",
        "#Unmatched interactivity\n",
        "#A primary advantage of Plotly is that its graphs are interactive by default, which enhances user engagement and allows for powerful, dynamic data exploration. Key interactive features include:\n",
        "#Zooming and panning: Users can easily explore data at different levels of detail.\n",
        "#Hover-over details: Tooltips provide specific data values and other information when hovering over a data point.\n",
        "#Interactive legends: Clicking or double-clicking legend items allows users to toggle or isolate specific data series.\n",
        "#Widgets: You can add interactive elements like sliders, buttons, and dropdown menus to manipulate the data displayed in the plot"
      ],
      "metadata": {
        "id": "0k8cGPgQh3Gr"
      },
      "execution_count": null,
      "outputs": []
    },
    {
      "cell_type": "code",
      "source": [
        "# Q15.  How does NumPy handle multidimensional arrays?\n",
        "#Answer. NumPy handles multidimensional arrays through its core object, the ndarray. This object represents a homogeneous, N-dimensional array of fixed-size items. Here's how it works:\n",
        "#Homogeneous Data Type: All elements within a NumPy array must be of the same data type (e.g., all integers, all floats). This homogeneity allows for efficient memory storage and optimized mathematical operations.\n",
        "#Internal 1D Storage: Despite appearing multidimensional, NumPy arrays are internally stored as a contiguous, one-dimensional block of memory. The multidimensional structure is achieved by storing metadata about the array's \"shape\" and \"strides.\"\n",
        "#Shape and Strides:\n",
        "#hape: A tuple of integers indicating the size of the array along each dimension (axis). For example, a 2D array with 3 rows and 4 columns would have a shape of (3, 4).\n",
        "#Strides: A tuple of bytes indicating how many bytes to skip in memory to get to the next element along each dimension. This determines how NumPy interprets the 1D memory block as a multidimensional structure.\n",
        "#Creating Multidimensional Arrays: You can create multidimensional arrays in several ways:\n",
        "#np.array() with Nested Lists: Pass nested Python lists to np.array(). The nesting level determines the number of dimensions."
      ],
      "metadata": {
        "id": "okHnlTZ7h3D-"
      },
      "execution_count": null,
      "outputs": []
    },
    {
      "cell_type": "code",
      "source": [
        "# Q16. What is the role of Bokeh in data visualization?\n",
        "#Answer. Bokeh's role in data visualization centers on providing a powerful and flexible Python library for creating interactive and web-based visualizations. Its key contributions include:\n",
        "#Interactive Visualizations: Bokeh excels at generating plots, charts, and dashboards that users can interact with directly in a web browser. This includes features like zooming, panning, hovering for details, and selecting data points, facilitating exploratory data analysis.\n",
        "#Web-Focused Output: Unlike some other Python visualization libraries that primarily produce static images, Bokeh's core strength lies in its ability to generate HTML and JavaScript-powered visualizations. This makes it ideal for web applications, dashboards, and sharing interactive content online.\n",
        "#Python-Based Development: While Bokeh leverages JavaScript for rendering in the browser, users can create sophisticated interactive visualizations entirely within Python, without needing to write JavaScript code directly. This simplifies development for Python users.\n",
        "#Versatility in Output: Bokeh plots can be rendered in various environments, including Jupyter notebooks, standalone HTML files, or even integrated into web frameworks like Django or Flask, offering flexibility in deployment.\n",
        "#Support for Complex Dashboards: Bokeh's capabilities extend beyond simple plots, enabling the creation of complex, interactive dashboards with widgets like sliders, dropdowns, and buttons, allowing for dynamic data exploration and analysis.\n",
        "#igh-Performance for Large Datasets: Bokeh is designed to handle large datasets efficiently, making it suitable for applications where data streaming or real-time updates are required, often in conjunction with the Bokeh server."
      ],
      "metadata": {
        "id": "BakqC2Rlh3Bj"
      },
      "execution_count": null,
      "outputs": []
    },
    {
      "cell_type": "code",
      "source": [
        "# Q17.  Explain the difference between apply() and map() in Pandas?\n",
        "#Answer. In Pandas, both map() and apply() are used to apply functions or transformations to data, but they differ in their scope and intended use:\n",
        "#map()\n",
        "#Scope: map() is exclusively defined for Series objects. It cannot be directly used on a DataFrame.\n",
        "#Functionality: It substitutes each value in a Series with another value based on a mapping. The mapping can be provided as a dictionary, a Series, or a callable function.\n",
        "#Use Case: Primarily used for element-wise value substitution or mapping values from one set to another. For example, replacing numerical codes with descriptive labels.\n",
        "#apply()\n",
        "#Scope: apply() is defined for both Series and DataFrame objects.\n",
        "#Functionality:\n",
        "#On a Series: It applies a function element-wise to each value in the Series.\n",
        "#On a DataFrame: It applies a function along an axis (rows or columns) or to the entire DataFrame.\n",
        "#axis=0: Applies the function to each column.\n",
        "#axis=1: Applies the function to each row.\n",
        "#Use Case: More versatile than map(). It is used for applying arbitrary functions, including complex operations, aggregations, or transformations that might involve multiple elements within a row or column. It can also accept additional arguments to the function being applied."
      ],
      "metadata": {
        "id": "iEHvAGJbh2_A"
      },
      "execution_count": null,
      "outputs": []
    },
    {
      "cell_type": "code",
      "source": [
        "# Q18. What are some advanced features of NumPy?\n",
        "#Answer. Advanced features of NumPy include broadcasting (performing operations on arrays of different shapes), vectorization (applying operations to entire arrays without explicit loops), powerful indexing and slicing (including boolean and fancy indexing), efficient array manipulation and stacking, built-in linear algebra functions, high-performance **universal functions (ufuncs), and random number generation tools.\n",
        "#Here's a breakdown of these advanced features:\n",
        "#1. Broadcasting\n",
        "#Concept: Allows operations on arrays of different shapes by automatically \"broadcasting\" the shape of the smaller array to match the larger one.\n",
        "#Example: Adding a scalar value (like 5) to an entire array, or adding a 1D array to a 2D array along a specific dimension.\n",
        "#2. Vectorization\n",
        "#Concept: Enables performing operations on entire arrays simultaneously, eliminating the need for slow, explicit Python loops.\n",
        "#Benefit: This significantly improves performance and makes code more concise and efficient for numerical computations.\n",
        "#3. Advanced Indexing and Slicing\n",
        "#Concept: Go beyond simple integer indexing to select and manipulate array elements.\n",
        "#4. Array Manipulation and Stacking\n",
        "#Reshaping: Changing the dimensions of an array using reshape().\n",
        "#Transposing: Swapping the axes of an array using transpose().\n",
        "#Flattening: Converting a multi-dimensional array into a 1D array.\n",
        "#Stacking: Combining multiple arrays into one using functions like vstack() (vertical), hstack() (horizontal), and concatenate().\n",
        "#5. Linear Algebra\n",
        "#Concept: NumPy includes a dedicated module for linear algebra operations.\n",
        "#Capabilities: Performing operations like matrix multiplication, calculating determinants, and performing matrix decompositions.\n",
        "#6. Universal Functions (ufuncs)\n",
        "#Concept: Functions that perform element-wise operations on NumPy arrays efficiently.\n",
        "#Examples: Mathematical functions like np.sin(), np.cos(), np.exp(), and comparison operators like >, <, etc.\n",
        ""
      ],
      "metadata": {
        "id": "RXYZ6cPMh28Z"
      },
      "execution_count": null,
      "outputs": []
    },
    {
      "cell_type": "code",
      "source": [
        "# Q19.  How does Pandas simplify time series analysis?\n",
        "#Answer. Pandas simplifies time series analysis through its specialized data structures and functions designed to handle time-indexed data efficiently.\n",
        "#Key Features and Simplifications:\n",
        "#DatetimeIndex: Pandas introduces the DatetimeIndex, a powerful index type that allows direct indexing and slicing using dates and times. This enables intuitive selection of data for specific days, months, years, or custom time ranges using simple string-based indexing.\n",
        "#Time-based Operations: Pandas provides a rich set of functions for common time series operations:\n",
        "#Resampling: Easily change the frequency of your time series data (e.g., aggregate daily data to monthly averages or upsample hourly data to minute-level).\n",
        "#Rolling Calculations: Compute moving averages, rolling sums, or other statistics over a defined window of time, crucial for trend analysis and smoothing.\n",
        "#Time Zone Handling: Seamlessly convert between time zones and handle localized timestamps.\n",
        "#Date/Time Components Access: Extract various components of a datetime object (year, month, day, hour, minute, etc.) using the .dt accessor.\n",
        "#Handling Missing Values: Pandas offers methods like fillna() and interpolate() to deal with gaps in time series data, using techniques like forward-fill, backward-fill, or linear interpolation.\n",
        "#Integration with NumPy: Leveraging NumPy's datetime64 and timedelta64 dtypes, Pandas provides robust and performant handling of date and time data.\n",
        "#Visualization: While not a primary plotting library, Pandas DataFrames can be easily integrated with libraries like Matplotlib to create time series plots for visualization and exploration."
      ],
      "metadata": {
        "id": "MyEk81ebh25o"
      },
      "execution_count": null,
      "outputs": []
    },
    {
      "cell_type": "code",
      "source": [
        "# Q20. What is the role of a pivot table in Pandas?\n",
        "#Answer. In Pandas, a pivot table's primary role is to summarize and analyze large DataFrames by aggregating data based on specific columns, transforming rows into a more insightful structure with new row and column headers. It provides powerful tools to reveal trends, patterns, and other observations hidden within raw data by performing aggregate functions like sums, counts, and averages, similar to its counterpart in Microsoft Excel.\n",
        "#Key Functions and Benefits\n",
        "#Data Aggregation: pandas.pivot_table() enables you to apply aggregate functions (e.g., sum, mean, count) to groups of data.\n",
        "#Data Restructuring: It reorganizes the DataFrame by moving unique values from one or more columns to serve as new row or column headers, providing a different perspective on the data.\n",
        "#Hierarchical Indexing: For more complex analyses, pivot tables support multi-level row and column indexing, allowing for deeper insights.\n",
        "#Powerful Analysis: The ability to group and aggregate data based on multiple variables makes it an excellent tool for understanding complex datasets.\n",
        "#Comparison and Visualization: By creating summary tables, pivot tables facilitate the easy comparison of different data segments and can be used in conjunction with visualizations to highlight trends.\n",
        "#When to Use a Pivot Table\n",
        "#When you need to consolidate and summarize a large, raw dataset.\n",
        "#When you want to explore relationships between variables by grouping and aggregating data.\n",
        "#When you need to calculate statistical measures like totals, averages, or counts for specific categories within your data.\n",
        "#To create a concise summary table that reveals insights and trends hidden in the original data."
      ],
      "metadata": {
        "id": "aDur9TQgh221"
      },
      "execution_count": null,
      "outputs": []
    },
    {
      "cell_type": "code",
      "source": [
        "# Q21. Why is NumPy’s array slicing faster than Python’s list slicing?\n",
        "#Answer. NumPy's array slicing is significantly faster than Python's list slicing due to fundamental differences in their underlying implementations and memory management:\n",
        "#Contiguous Memory Allocation: NumPy arrays store elements in contiguous blocks of memory. This allows for efficient access and manipulation by the CPU, as data can be loaded and processed in a streamlined manner. Python lists, on the other hand, store pointers to objects that can be scattered throughout memory, requiring more effort to access each element.\n",
        "#Homogeneous Data Types: NumPy arrays are designed to hold elements of a single, fixed data type (e.g., all integers, all floats). This homogeneity allows NumPy to optimize operations by knowing the exact size and type of each element, eliminating the need for type checking during processing. Python lists can store heterogeneous data types, requiring more overhead for type management.\n",
        "#C Implementation and Vectorization: NumPy's core operations, including slicing, are implemented in C, a lower-level language that offers greater control over memory and hardware resources. This allows for highly optimized, vectorized operations that perform computations on entire arrays simultaneously, rather than processing individual elements sequentially as in Python's interpreted loops.\n",
        "#Reduced Overhead: The fixed data type and contiguous memory allocation of NumPy arrays minimize the overhead associated with each element. Python lists, with their flexible data types and pointer-based storage, carry more overhead per element, which can become substantial when dealing with large datasets."
      ],
      "metadata": {
        "id": "1rUMgekNh200"
      },
      "execution_count": null,
      "outputs": []
    },
    {
      "cell_type": "code",
      "source": [
        "# Q22. What are some common use cases for Seaborn?\n",
        "#Answer. Seaborn is a Python data visualization library built on top of Matplotlib, designed to simplify the creation of attractive and informative statistical graphics. Common use cases for Seaborn include:\n",
        "#Exploratory Data Analysis (EDA): Seaborn excels at visualizing distributions of single variables (histograms, kernel density estimates), relationships between two variables (scatter plots, line plots), and relationships between multiple variables (pair plots, heatmaps). This helps in understanding data patterns, outliers, and potential correlations.\n",
        "#Statistical Data Visualization: It provides high-level functions for plotting statistical relationships, such as regression plots to visualize linear relationships, and categorical plots (box plots, violin plots, bar plots) to compare distributions or aggregates across different categories.\n",
        "#Presenting Insights: Seaborn's aesthetically pleasing default styles and color palettes make it suitable for creating publication-ready visualizations. It can be used to effectively communicate findings from data analysis to a wider audience.\n",
        "#Working with Pandas DataFrames: Seaborn integrates seamlessly with Pandas DataFrames, allowing users to directly plot data from their structured datasets with minimal code.\n",
        "#Creating Complex Multi-Plot Visualizations: Features like FacetGrid enable the creation of grids of plots, allowing for easy comparison of subsets of data based on categorical or temporal factors. This is particularly useful for exploring conditional relationships within a dataset.#"
      ],
      "metadata": {
        "id": "1J2tdCsuh2yW"
      },
      "execution_count": null,
      "outputs": []
    },
    {
      "cell_type": "code",
      "source": [
        "                                                              # Practical"
      ],
      "metadata": {
        "id": "0TgWDlZgh2vt"
      },
      "execution_count": null,
      "outputs": []
    },
    {
      "cell_type": "code",
      "source": [
        "# Q1.  How do you create a 2D NumPy array and calculate the sum of each row?\n",
        "#Answer. To create a 2D NumPy array and calculate the sum of each row, follow these steps:\n",
        "#Import NumPy: Begin by importing the NumPy library, conventionally aliased as np.\n",
        "#Create a 2D NumPy array: Use np.array() and pass a list of lists to represent the rows and columns of your 2D array.\n",
        "#Calculate the sum of each row: Utilize the np.sum() function, specifying axis=1 to indicate that the summation should occur along the rows (the second axis).\n",
        "#The axis parameter is crucial here:\n",
        "#axis=0 would sum along the columns.\n",
        "#axis=1 sums along the rows.\n",
        "#Omitting axis or setting it to None would sum all elements in the entire array.\n",
        "import numpy as np\n",
        "\n",
        "# Create a 2D NumPy array\n",
        "my_array = np.array([[10, 20, 30],\n",
        "                     [1, 2, 3],\n",
        "                     [5, 10, 15]])\n",
        "\n",
        "print(\"Original 2D Array:\")\n",
        "print(my_array)\n",
        "\n",
        "# Calculate the sum of each row\n",
        "row_sums = np.sum(my_array, axis=1)\n",
        "\n",
        "print(\"\\nSum of each row:\")\n",
        "print(row_sums)"
      ],
      "metadata": {
        "colab": {
          "base_uri": "https://localhost:8080/"
        },
        "id": "qvKkUYszh2r5",
        "outputId": "ad494d7c-c005-4a78-91e2-542683e9eda0"
      },
      "execution_count": 1,
      "outputs": [
        {
          "output_type": "stream",
          "name": "stdout",
          "text": [
            "Original 2D Array:\n",
            "[[10 20 30]\n",
            " [ 1  2  3]\n",
            " [ 5 10 15]]\n",
            "\n",
            "Sum of each row:\n",
            "[60  6 30]\n"
          ]
        }
      ]
    },
    {
      "cell_type": "code",
      "source": [
        "# Q2.  Write a Pandas script to find the mean of a specific column in a DataFrame?\n",
        "#Answer. To find the mean of a specific column in a Pandas DataFrame, access the column as a Series and then call the .mean() method on it.\n",
        "import pandas as pd\n",
        "\n",
        "# Sample DataFrame\n",
        "data = {\n",
        "    'Name': ['Alice', 'Bob', 'Charlie'],\n",
        "    'Age': [25, 30, 35],\n",
        "    'Salary': [50000, 60000, 70000]\n",
        "}\n",
        "\n",
        "df = pd.DataFrame(data)\n",
        "\n",
        "# Calculate the mean of the 'Salary' column\n",
        "mean_salary = df['Salary'].mean()\n",
        "\n",
        "print(\"Mean Salary:\", mean_salary)"
      ],
      "metadata": {
        "colab": {
          "base_uri": "https://localhost:8080/"
        },
        "id": "UYX5lOQQh2oe",
        "outputId": "1c85b1ff-0549-4d8b-f545-91e9abe43a3f"
      },
      "execution_count": 3,
      "outputs": [
        {
          "output_type": "stream",
          "name": "stdout",
          "text": [
            "Mean Salary: 60000.0\n"
          ]
        }
      ]
    },
    {
      "cell_type": "code",
      "source": [
        "# Q3. Create a scatter plot using Matplotlib?\n",
        "# ANSWER. import matplotlib.pyplot as plt\n",
        "\n",
        "# Sample data\n",
        "x = [10, 20, 30, 40, 50]\n",
        "y = [15, 25, 10, 35, 30]\n",
        "\n",
        "# Create scatter plot\n",
        "import matplotlib.pyplot as plt\n",
        "plt.scatter(x, y, color='blue', marker='o')\n",
        "\n",
        "# Add labels and title\n",
        "plt.xlabel('X-axis Label')\n",
        "plt.ylabel('Y-axis Label')\n",
        "plt.title('Simple Scatter Plot')\n",
        "\n",
        "# Show the plot\n",
        "plt.show()"
      ],
      "metadata": {
        "colab": {
          "base_uri": "https://localhost:8080/",
          "height": 472
        },
        "id": "sRADu9Nah2mY",
        "outputId": "fab97057-b051-4e48-b33d-0bdfa5355ee5"
      },
      "execution_count": 5,
      "outputs": [
        {
          "output_type": "display_data",
          "data": {
            "text/plain": [
              "<Figure size 640x480 with 1 Axes>"
            ],
            "image/png": "[encoded data removed]"
          },
          "metadata": {}
        }
      ]
    },
    {
      "cell_type": "code",
      "source": [
        "# Q4. How do you calculate the correlation matrix using Seaborn and visualize it with a heatmap?\n",
        "#Answer. Import the necessary libraries: pandas for data manipulation, seaborn for plotting, and matplotlib.pyplot for displaying the plot.\n",
        "Python\n",
        "\n",
        "#import pandas as pd\n",
        "#import seaborn as sns\n",
        "#import matplotlib.pyplot as plt\n",
        "Load your data into a Pandas DataFrame. For this example, we will use a sample DataFrame.\n",
        "Python\n",
        "\n",
        "# Sample data (replace with your actual DataFrame)\n",
        "#data = {'col1': [1, 2, 3, 4, 5],\n",
        "        #'col2': [5, 4, 3, 2, 1],\n",
        "        #'col3': [1, 3, 2, 5, 4],\n",
        "        #'col4': [2, 5, 4, 1, 3]}\n",
        "#df = pd.DataFrame(data)\n",
        "\n",
        "#Calculate the correlation matrix for your DataFrame using the .corr() method.\n",
        "\n",
        "\n",
        "#correlation_matrix = df.corr()\n",
        "\n",
        "#Use seaborn.heatmap() to visualize the correlation matrix.\n",
        "\n",
        "\n",
        "#plt.figure(figsize=(8, 6)) # Set the figure size (optional)\n",
        "#sns.heatmap(correlation_matrix, annot=True, cmap='coolwarm', vmin=-1, vmax=1)\n",
        "#plt.title('Correlation Matrix Heatmap') # Add a title to the plot\n",
        "#plt.show() # Display the plot\n",
        "\n",
        "#correlation_matrix: The input data, which is the correlation matrix calculated from your DataFrame.\n",
        "#annot=True: Displays the correlation values on each cell of the heatmap.\n",
        "#cmap='coolwarm': Sets the colormap. 'coolwarm' is a diverging colormap, with blues indicating negative correlations and reds indicating positive correlations, and the intensity of the color showing the strength.\n",
        "#vmin=-1, vmax=1: Sets the minimum and maximum values for the color mapping, ensuring the color scale is balanced for correlations between -1 and 1."
      ],
      "metadata": {
        "id": "z7kJ9o9sh2kR"
      },
      "execution_count": null,
      "outputs": []
    },
    {
      "cell_type": "code",
      "source": [
        "# Q5.  Generate a bar plot using Plotly?\n",
        "#Answer.\n",
        "import plotly.express as px\n",
        "import pandas as pd\n",
        "\n",
        "# Sample data\n",
        "data = {\n",
        "    'Category': ['A', 'B', 'C', 'D'],\n",
        "    'Values': [10, 15, 7, 12]\n",
        "}\n",
        "\n",
        "df = pd.DataFrame(data)\n",
        "\n",
        "# Create bar plot\n",
        "fig = px.bar(df, x='Category', y='Values', title='Simple Bar Plot')\n",
        "\n",
        "# Show plot\n",
        "fig.show()"
      ],
      "metadata": {
        "colab": {
          "base_uri": "https://localhost:8080/",
          "height": 542
        },
        "id": "O2FyHLsph2hy",
        "outputId": "64fd2569-cd03-4571-9e67-87fd7cce578b"
      },
      "execution_count": 8,
      "outputs": [
        {
          "output_type": "display_data",
          "data": {
            "text/html": [
              "<html>\n",
              "<head><meta charset=\"utf-8\" /></head>\n",
              "<body>\n",
              "    <div>            <script src=\"https://cdnjs.cloudflare.com/ajax/libs/mathjax/2.7.5/MathJax.js?config=TeX-AMS-MML_SVG\"></script><script type=\"text/javascript\">if (window.MathJax && window.MathJax.Hub && window.MathJax.Hub.Config) {window.MathJax.Hub.Config({SVG: {font: \"STIX-Web\"}});}</script>                <script type=\"text/javascript\">window.PlotlyConfig = {MathJaxConfig: 'local'};</script>\n",
              "        <script charset=\"utf-8\" src=\"https://cdn.plot.ly/plotly-2.35.2.min.js\"></script>                <div id=\"46e8e0ab-2f07-4b76-96b5-ce236e6ee75b\" class=\"plotly-graph-div\" style=\"height:525px; width:100%;\"></div>            <script type=\"text/javascript\">                                    window.PLOTLYENV=window.PLOTLYENV || {};                                    if (document.getElementById(\"46e8e0ab-2f07-4b76-96b5-ce236e6ee75b\")) {                    Plotly.newPlot(                        \"46e8e0ab-2f07-4b76-96b5-ce236e6ee75b\",                        [{\"alignmentgroup\":\"True\",\"hovertemplate\":\"Category=%{x}\\u003cbr\\u003eValues=%{y}\\u003cextra\\u003e\\u003c\\u002fextra\\u003e\",\"legendgroup\":\"\",\"marker\":{\"color\":\"#636efa\",\"pattern\":{\"shape\":\"\"}},\"name\":\"\",\"offsetgroup\":\"\",\"orientation\":\"v\",\"showlegend\":false,\"textposition\":\"auto\",\"x\":[\"A\",\"B\",\"C\",\"D\"],\"xaxis\":\"x\",\"y\":[10,15,7,12],\"yaxis\":\"y\",\"type\":\"bar\"}],                        {\"template\":{\"data\":{\"histogram2dcontour\":[{\"type\":\"histogram2dcontour\",\"colorbar\":{\"outlinewidth\":0,\"ticks\":\"\"},\"colorscale\":[[0.0,\"#0d0887\"],[0.1111111111111111,\"#46039f\"],[0.2222222222222222,\"#7201a8\"],[0.3333333333333333,\"#9c179e\"],[0.4444444444444444,\"#bd3786\"],[0.5555555555555556,\"#d8576b\"],[0.6666666666666666,\"#ed7953\"],[0.7777777777777778,\"#fb9f3a\"],[0.8888888888888888,\"#fdca26\"],[1.0,\"#f0f921\"]]}],\"choropleth\":[{\"type\":\"choropleth\",\"colorbar\":{\"outlinewidth\":0,\"ticks\":\"\"}}],\"histogram2d\":[{\"type\":\"histogram2d\",\"colorbar\":{\"outlinewidth\":0,\"ticks\":\"\"},\"colorscale\":[[0.0,\"#0d0887\"],[0.1111111111111111,\"#46039f\"],[0.2222222222222222,\"#7201a8\"],[0.3333333333333333,\"#9c179e\"],[0.4444444444444444,\"#bd3786\"],[0.5555555555555556,\"#d8576b\"],[0.6666666666666666,\"#ed7953\"],[0.7777777777777778,\"#fb9f3a\"],[0.8888888888888888,\"#fdca26\"],[1.0,\"#f0f921\"]]}],\"heatmap\":[{\"type\":\"heatmap\",\"colorbar\":{\"outlinewidth\":0,\"ticks\":\"\"},\"colorscale\":[[0.0,\"#0d0887\"],[0.1111111111111111,\"#46039f\"],[0.2222222222222222,\"#7201a8\"],[0.3333333333333333,\"#9c179e\"],[0.4444444444444444,\"#bd3786\"],[0.5555555555555556,\"#d8576b\"],[0.6666666666666666,\"#ed7953\"],[0.7777777777777778,\"#fb9f3a\"],[0.8888888888888888,\"#fdca26\"],[1.0,\"#f0f921\"]]}],\"heatmapgl\":[{\"type\":\"heatmapgl\",\"colorbar\":{\"outlinewidth\":0,\"ticks\":\"\"},\"colorscale\":[[0.0,\"#0d0887\"],[0.1111111111111111,\"#46039f\"],[0.2222222222222222,\"#7201a8\"],[0.3333333333333333,\"#9c179e\"],[0.4444444444444444,\"#bd3786\"],[0.5555555555555556,\"#d8576b\"],[0.6666666666666666,\"#ed7953\"],[0.7777777777777778,\"#fb9f3a\"],[0.8888888888888888,\"#fdca26\"],[1.0,\"#f0f921\"]]}],\"contourcarpet\":[{\"type\":\"contourcarpet\",\"colorbar\":{\"outlinewidth\":0,\"ticks\":\"\"}}],\"contour\":[{\"type\":\"contour\",\"colorbar\":{\"outlinewidth\":0,\"ticks\":\"\"},\"colorscale\":[[0.0,\"#0d0887\"],[0.1111111111111111,\"#46039f\"],[0.2222222222222222,\"#7201a8\"],[0.3333333333333333,\"#9c179e\"],[0.4444444444444444,\"#bd3786\"],[0.5555555555555556,\"#d8576b\"],[0.6666666666666666,\"#ed7953\"],[0.7777777777777778,\"#fb9f3a\"],[0.8888888888888888,\"#fdca26\"],[1.0,\"#f0f921\"]]}],\"surface\":[{\"type\":\"surface\",\"colorbar\":{\"outlinewidth\":0,\"ticks\":\"\"},\"colorscale\":[[0.0,\"#0d0887\"],[0.1111111111111111,\"#46039f\"],[0.2222222222222222,\"#7201a8\"],[0.3333333333333333,\"#9c179e\"],[0.4444444444444444,\"#bd3786\"],[0.5555555555555556,\"#d8576b\"],[0.6666666666666666,\"#ed7953\"],[0.7777777777777778,\"#fb9f3a\"],[0.8888888888888888,\"#fdca26\"],[1.0,\"#f0f921\"]]}],\"mesh3d\":[{\"type\":\"mesh3d\",\"colorbar\":{\"outlinewidth\":0,\"ticks\":\"\"}}],\"scatter\":[{\"fillpattern\":{\"fillmode\":\"overlay\",\"size\":10,\"solidity\":0.2},\"type\":\"scatter\"}],\"parcoords\":[{\"type\":\"parcoords\",\"line\":{\"colorbar\":{\"outlinewidth\":0,\"ticks\":\"\"}}}],\"scatterpolargl\":[{\"type\":\"scatterpolargl\",\"marker\":{\"colorbar\":{\"outlinewidth\":0,\"ticks\":\"\"}}}],\"bar\":[{\"error_x\":{\"color\":\"#2a3f5f\"},\"error_y\":{\"color\":\"#2a3f5f\"},\"marker\":{\"line\":{\"color\":\"#E5ECF6\",\"width\":0.5},\"pattern\":{\"fillmode\":\"overlay\",\"size\":10,\"solidity\":0.2}},\"type\":\"bar\"}],\"scattergeo\":[{\"type\":\"scattergeo\",\"marker\":{\"colorbar\":{\"outlinewidth\":0,\"ticks\":\"\"}}}],\"scatterpolar\":[{\"type\":\"scatterpolar\",\"marker\":{\"colorbar\":{\"outlinewidth\":0,\"ticks\":\"\"}}}],\"histogram\":[{\"marker\":{\"pattern\":{\"fillmode\":\"overlay\",\"size\":10,\"solidity\":0.2}},\"type\":\"histogram\"}],\"scattergl\":[{\"type\":\"scattergl\",\"marker\":{\"colorbar\":{\"outlinewidth\":0,\"ticks\":\"\"}}}],\"scatter3d\":[{\"type\":\"scatter3d\",\"line\":{\"colorbar\":{\"outlinewidth\":0,\"ticks\":\"\"}},\"marker\":{\"colorbar\":{\"outlinewidth\":0,\"ticks\":\"\"}}}],\"scattermapbox\":[{\"type\":\"scattermapbox\",\"marker\":{\"colorbar\":{\"outlinewidth\":0,\"ticks\":\"\"}}}],\"scatterternary\":[{\"type\":\"scatterternary\",\"marker\":{\"colorbar\":{\"outlinewidth\":0,\"ticks\":\"\"}}}],\"scattercarpet\":[{\"type\":\"scattercarpet\",\"marker\":{\"colorbar\":{\"outlinewidth\":0,\"ticks\":\"\"}}}],\"carpet\":[{\"aaxis\":{\"endlinecolor\":\"#2a3f5f\",\"gridcolor\":\"white\",\"linecolor\":\"white\",\"minorgridcolor\":\"white\",\"startlinecolor\":\"#2a3f5f\"},\"baxis\":{\"endlinecolor\":\"#2a3f5f\",\"gridcolor\":\"white\",\"linecolor\":\"white\",\"minorgridcolor\":\"white\",\"startlinecolor\":\"#2a3f5f\"},\"type\":\"carpet\"}],\"table\":[{\"cells\":{\"fill\":{\"color\":\"#EBF0F8\"},\"line\":{\"color\":\"white\"}},\"header\":{\"fill\":{\"color\":\"#C8D4E3\"},\"line\":{\"color\":\"white\"}},\"type\":\"table\"}],\"barpolar\":[{\"marker\":{\"line\":{\"color\":\"#E5ECF6\",\"width\":0.5},\"pattern\":{\"fillmode\":\"overlay\",\"size\":10,\"solidity\":0.2}},\"type\":\"barpolar\"}],\"pie\":[{\"automargin\":true,\"type\":\"pie\"}]},\"layout\":{\"autotypenumbers\":\"strict\",\"colorway\":[\"#636efa\",\"#EF553B\",\"#00cc96\",\"#ab63fa\",\"#FFA15A\",\"#19d3f3\",\"#FF6692\",\"#B6E880\",\"#FF97FF\",\"#FECB52\"],\"font\":{\"color\":\"#2a3f5f\"},\"hovermode\":\"closest\",\"hoverlabel\":{\"align\":\"left\"},\"paper_bgcolor\":\"white\",\"plot_bgcolor\":\"#E5ECF6\",\"polar\":{\"bgcolor\":\"#E5ECF6\",\"angularaxis\":{\"gridcolor\":\"white\",\"linecolor\":\"white\",\"ticks\":\"\"},\"radialaxis\":{\"gridcolor\":\"white\",\"linecolor\":\"white\",\"ticks\":\"\"}},\"ternary\":{\"bgcolor\":\"#E5ECF6\",\"aaxis\":{\"gridcolor\":\"white\",\"linecolor\":\"white\",\"ticks\":\"\"},\"baxis\":{\"gridcolor\":\"white\",\"linecolor\":\"white\",\"ticks\":\"\"},\"caxis\":{\"gridcolor\":\"white\",\"linecolor\":\"white\",\"ticks\":\"\"}},\"coloraxis\":{\"colorbar\":{\"outlinewidth\":0,\"ticks\":\"\"}},\"colorscale\":{\"sequential\":[[0.0,\"#0d0887\"],[0.1111111111111111,\"#46039f\"],[0.2222222222222222,\"#7201a8\"],[0.3333333333333333,\"#9c179e\"],[0.4444444444444444,\"#bd3786\"],[0.5555555555555556,\"#d8576b\"],[0.6666666666666666,\"#ed7953\"],[0.7777777777777778,\"#fb9f3a\"],[0.8888888888888888,\"#fdca26\"],[1.0,\"#f0f921\"]],\"sequentialminus\":[[0.0,\"#0d0887\"],[0.1111111111111111,\"#46039f\"],[0.2222222222222222,\"#7201a8\"],[0.3333333333333333,\"#9c179e\"],[0.4444444444444444,\"#bd3786\"],[0.5555555555555556,\"#d8576b\"],[0.6666666666666666,\"#ed7953\"],[0.7777777777777778,\"#fb9f3a\"],[0.8888888888888888,\"#fdca26\"],[1.0,\"#f0f921\"]],\"diverging\":[[0,\"#8e0152\"],[0.1,\"#c51b7d\"],[0.2,\"#de77ae\"],[0.3,\"#f1b6da\"],[0.4,\"#fde0ef\"],[0.5,\"#f7f7f7\"],[0.6,\"#e6f5d0\"],[0.7,\"#b8e186\"],[0.8,\"#7fbc41\"],[0.9,\"#4d9221\"],[1,\"#276419\"]]},\"xaxis\":{\"gridcolor\":\"white\",\"linecolor\":\"white\",\"ticks\":\"\",\"title\":{\"standoff\":15},\"zerolinecolor\":\"white\",\"automargin\":true,\"zerolinewidth\":2},\"yaxis\":{\"gridcolor\":\"white\",\"linecolor\":\"white\",\"ticks\":\"\",\"title\":{\"standoff\":15},\"zerolinecolor\":\"white\",\"automargin\":true,\"zerolinewidth\":2},\"scene\":{\"xaxis\":{\"backgroundcolor\":\"#E5ECF6\",\"gridcolor\":\"white\",\"linecolor\":\"white\",\"showbackground\":true,\"ticks\":\"\",\"zerolinecolor\":\"white\",\"gridwidth\":2},\"yaxis\":{\"backgroundcolor\":\"#E5ECF6\",\"gridcolor\":\"white\",\"linecolor\":\"white\",\"showbackground\":true,\"ticks\":\"\",\"zerolinecolor\":\"white\",\"gridwidth\":2},\"zaxis\":{\"backgroundcolor\":\"#E5ECF6\",\"gridcolor\":\"white\",\"linecolor\":\"white\",\"showbackground\":true,\"ticks\":\"\",\"zerolinecolor\":\"white\",\"gridwidth\":2}},\"shapedefaults\":{\"line\":{\"color\":\"#2a3f5f\"}},\"annotationdefaults\":{\"arrowcolor\":\"#2a3f5f\",\"arrowhead\":0,\"arrowwidth\":1},\"geo\":{\"bgcolor\":\"white\",\"landcolor\":\"#E5ECF6\",\"subunitcolor\":\"white\",\"showland\":true,\"showlakes\":true,\"lakecolor\":\"white\"},\"title\":{\"x\":0.05},\"mapbox\":{\"style\":\"light\"}}},\"xaxis\":{\"anchor\":\"y\",\"domain\":[0.0,1.0],\"title\":{\"text\":\"Category\"}},\"yaxis\":{\"anchor\":\"x\",\"domain\":[0.0,1.0],\"title\":{\"text\":\"Values\"}},\"legend\":{\"tracegroupgap\":0},\"title\":{\"text\":\"Simple Bar Plot\"},\"barmode\":\"relative\"},                        {\"responsive\": true}                    ).then(function(){\n",
              "                            \n",
              "var gd = document.getElementById('46e8e0ab-2f07-4b76-96b5-ce236e6ee75b');\n",
              "var x = new MutationObserver(function (mutations, observer) {{\n",
              "        var display = window.getComputedStyle(gd).display;\n",
              "        if (!display || display === 'none') {{\n",
              "            console.log([gd, 'removed!']);\n",
              "            Plotly.purge(gd);\n",
              "            observer.disconnect();\n",
              "        }}\n",
              "}});\n",
              "\n",
              "// Listen for the removal of the full notebook cells\n",
              "var notebookContainer = gd.closest('#notebook-container');\n",
              "if (notebookContainer) {{\n",
              "    x.observe(notebookContainer, {childList: true});\n",
              "}}\n",
              "\n",
              "// Listen for the clearing of the current output cell\n",
              "var outputEl = gd.closest('.output');\n",
              "if (outputEl) {{\n",
              "    x.observe(outputEl, {childList: true});\n",
              "}}\n",
              "\n",
              "                        })                };                            </script>        </div>\n",
              "</body>\n",
              "</html>"
            ]
          },
          "metadata": {}
        }
      ]
    },
    {
      "cell_type": "code",
      "source": [
        "# Q6.  Create a DataFrame and add a new column based on an existing column?\n",
        "# Step 1: Create a sample DataFrame\n",
        "data = {\n",
        "    'Name': ['Alice', 'Bob', 'Charlie'],\n",
        "    'Age': [25, 30, 35]\n",
        "}\n",
        "df = pd.DataFrame(data)\n",
        "\n",
        "# Step 2: Add a new column 'Age_Group' based on 'Age'\n",
        "# Example logic: if Age < 30 -> 'Young', else 'Adult'\n",
        "df['Age_Group'] = df['Age'].apply(lambda x: 'Young' if x < 30 else 'Adult')\n",
        "\n",
        "print(df)"
      ],
      "metadata": {
        "colab": {
          "base_uri": "https://localhost:8080/"
        },
        "id": "BUiU6s0ah2fu",
        "outputId": "d35383f8-89a5-417e-b07a-d092bd7e4905"
      },
      "execution_count": 9,
      "outputs": [
        {
          "output_type": "stream",
          "name": "stdout",
          "text": [
            "      Name  Age Age_Group\n",
            "0    Alice   25     Young\n",
            "1      Bob   30     Adult\n",
            "2  Charlie   35     Adult\n"
          ]
        }
      ]
    },
    {
      "cell_type": "code",
      "source": [
        "# Q7.  Write a program to perform element-wise multiplication of two NumPy arrays?\n",
        "#Answer. # Create two NumPy arrays\n",
        "array1 = np.array([1, 2, 3, 4])\n",
        "array2 = np.array([5, 6, 7, 8])\n",
        "\n",
        "# Perform element-wise multiplication\n",
        "result = array1 * array2\n",
        "\n",
        "print(\"Array 1:\", array1)\n",
        "print(\"Array 2:\", array2)\n",
        "print(\"Element-wise multiplication result:\", result)"
      ],
      "metadata": {
        "colab": {
          "base_uri": "https://localhost:8080/"
        },
        "id": "VrkUMrmSh2dX",
        "outputId": "b7ed1961-7adc-4066-e69e-99ff566e221c"
      },
      "execution_count": 10,
      "outputs": [
        {
          "output_type": "stream",
          "name": "stdout",
          "text": [
            "Array 1: [1 2 3 4]\n",
            "Array 2: [5 6 7 8]\n",
            "Element-wise multiplication result: [ 5 12 21 32]\n"
          ]
        }
      ]
    },
    {
      "cell_type": "code",
      "source": [
        "# Q8.  Create a line plot with multiple lines using Matplotlib?\n",
        "#Answer.\n",
        "# Sample data\n",
        "x = [1, 2, 3, 4, 5]\n",
        "\n",
        "y1 = [2, 3, 5, 7, 11]   # Line 1 data\n",
        "y2 = [1, 4, 6, 8, 10]   # Line 2 data\n",
        "y3 = [3, 5, 7, 9, 12]   # Line 3 data\n",
        "\n",
        "# Plot multiple lines\n",
        "plt.plot(x, y1, label='Line 1', marker='o')\n",
        "plt.plot(x, y2, label='Line 2', marker='s')\n",
        "plt.plot(x, y3, label='Line 3', marker='^')\n",
        "\n",
        "# Add labels and title\n",
        "plt.xlabel('X-axis')\n",
        "plt.ylabel('Y-axis')\n",
        "plt.title('Multiple Lines Plot')\n",
        "\n",
        "# Show legend\n",
        "plt.legend()\n",
        "\n",
        "# Show grid\n",
        "plt.grid(True)\n",
        "\n",
        "# Display the plot\n",
        "plt.show()"
      ],
      "metadata": {
        "colab": {
          "base_uri": "https://localhost:8080/",
          "height": 472
        },
        "id": "sR9Ytrz_h2a4",
        "outputId": "f32788ec-04a1-4232-e2c4-ae64218702af"
      },
      "execution_count": 11,
      "outputs": [
        {
          "output_type": "display_data",
          "data": {
            "text/plain": [
              "<Figure size 640x480 with 1 Axes>"
            ],
            "image/png": "[encoded data removed]"
          },
          "metadata": {}
        }
      ]
    },
    {
      "cell_type": "code",
      "source": [
        "# Q9. Generate a Pandas DataFrame and filter rows where a column value is greater than a threshold?\n",
        "#Answer. import pandas as pd\n",
        "\n",
        "# Step 1: Create a sample DataFrame\n",
        "data = {\n",
        "    'Name': ['Alice', 'Bob', 'Charlie', 'David'],\n",
        "    'Age': [25, 30, 22, 35],\n",
        "    'Salary': [50000, 60000, 45000, 70000]\n",
        "}\n",
        "\n",
        "df = pd.DataFrame(data)\n",
        "\n",
        "# Step 2: Filter rows where 'Age' is greater than 25\n",
        "filtered_df = df[df['Age'] > 25]\n",
        "\n",
        "print(filtered_df)"
      ],
      "metadata": {
        "colab": {
          "base_uri": "https://localhost:8080/"
        },
        "id": "aplH6A_hh2Yy",
        "outputId": "8e6e1e88-321a-4932-b261-1f5ea443989a"
      },
      "execution_count": 12,
      "outputs": [
        {
          "output_type": "stream",
          "name": "stdout",
          "text": [
            "    Name  Age  Salary\n",
            "1    Bob   30   60000\n",
            "3  David   35   70000\n"
          ]
        }
      ]
    },
    {
      "cell_type": "code",
      "source": [
        "# Q10.  Create a histogram using Seaborn to visualize a distribution?\n",
        "#Answer.\n",
        "import seaborn as sns\n",
        "import matplotlib.pyplot as plt\n",
        "\n",
        "# Sample data: Ages of individuals\n",
        "ages = [22, 25, 27, 30, 22, 35, 40, 25, 27, 29, 33, 31, 28, 26, 24, 32]\n",
        "\n",
        "# Create a Seaborn histogram\n",
        "sns.histplot(ages, bins=8, kde=False, color='skyblue')\n",
        "\n",
        "# Add labels and title\n",
        "plt.xlabel('Age')\n",
        "plt.ylabel('Frequency')\n",
        "plt.title('Age Distribution Histogram')\n",
        "\n",
        "# Show the plot\n",
        "plt.show()"
      ],
      "metadata": {
        "colab": {
          "base_uri": "https://localhost:8080/",
          "height": 472
        },
        "id": "oQfUHpc8h2Wb",
        "outputId": "91bb6e04-bc0b-4f16-fdcc-48827d72b029"
      },
      "execution_count": 14,
      "outputs": [
        {
          "output_type": "display_data",
          "data": {
            "text/plain": [
              "<Figure size 640x480 with 1 Axes>"
            ],
            "image/png": "[encoded data removed]"
          },
          "metadata": {}
        }
      ]
    },
    {
      "cell_type": "code",
      "source": [
        "# Q11.  Perform matrix multiplication using NumPy?\n",
        "#Answer. import numpy as np\n",
        "\n",
        "# Define two matrices (2D arrays)\n",
        "A = np.array([[1, 2],\n",
        "              [3, 4]])\n",
        "\n",
        "B = np.array([[5, 6],\n",
        "              [7, 8]])\n",
        "\n",
        "# Matrix multiplication\n",
        "result = np.dot(A, B)\n",
        "\n",
        "print(result)\n"
      ],
      "metadata": {
        "colab": {
          "base_uri": "https://localhost:8080/"
        },
        "id": "cbV-JiJKh2T2",
        "outputId": "86df77b1-7535-4b47-ef63-fcc5bdc78448"
      },
      "execution_count": 15,
      "outputs": [
        {
          "output_type": "stream",
          "name": "stdout",
          "text": [
            "[[19 22]\n",
            " [43 50]]\n"
          ]
        }
      ]
    },
    {
      "cell_type": "code",
      "source": [
        "#Q12.  Use Pandas to load a CSV file and display its first 5 rows?\n",
        "#Answer. import pandas as pd\n",
        "\n",
        "# Replace 'your_file.csv' with the actual path to your CSV file\n",
        "try:\n",
        "    df = pd.read_csv('your_file.csv')\n",
        "\n",
        "    # Display the first 5 rows of the DataFrame\n",
        "    print(\"First 5 rows of the DataFrame:\")\n",
        "    print(df.head())\n",
        "\n",
        "except FileNotFoundError:\n",
        "    print(\"Error: The specified CSV file was not found. Please check the file path.\")\n",
        "except Exception as e:\n",
        "    print(f\"An error occurred: {e}\")"
      ],
      "metadata": {
        "colab": {
          "base_uri": "https://localhost:8080/"
        },
        "id": "RlrhWdhjh2RM",
        "outputId": "117d2702-cf35-4406-f346-3e34a3e24d80"
      },
      "execution_count": 17,
      "outputs": [
        {
          "output_type": "stream",
          "name": "stdout",
          "text": [
            "Error: The specified CSV file was not found. Please check the file path.\n"
          ]
        }
      ]
    },
    {
      "cell_type": "code",
      "source": [
        "# Q13. Create a 3D scatter plot using Plotly.?\n",
        "#Answer.\n",
        "import plotly.express as px\n",
        "import pandas as pd\n",
        "\n",
        "data = {\n",
        "    'X': [1, 2, 3, 4, 5],\n",
        "    'Y': [5, 4, 3, 2, 1],\n",
        "    'Z': [2, 3, 4, 5, 6],\n",
        "    'Category': ['A', 'B', 'A', 'B', 'A']  # Optional grouping\n",
        "}\n",
        "\n",
        "df = pd.DataFrame(data)\n",
        "\n",
        "# Create 3D scatter plot\n",
        "fig = px.scatter_3d(df, x='X', y='Y', z='Z', color='Category',\n",
        "                    title='3D Scatter Plot Example')\n",
        "\n",
        "# Show the plot\n",
        "fig.show()"
      ],
      "metadata": {
        "colab": {
          "base_uri": "https://localhost:8080/",
          "height": 542
        },
        "id": "IPN_eTp5h2Op",
        "outputId": "e3fede54-9239-41e2-e102-70c8bac5d926"
      },
      "execution_count": 19,
      "outputs": [
        {
          "output_type": "display_data",
          "data": {
            "text/html": [
              "<html>\n",
              "<head><meta charset=\"utf-8\" /></head>\n",
              "<body>\n",
              "    <div>            <script src=\"https://cdnjs.cloudflare.com/ajax/libs/mathjax/2.7.5/MathJax.js?config=TeX-AMS-MML_SVG\"></script><script type=\"text/javascript\">if (window.MathJax && window.MathJax.Hub && window.MathJax.Hub.Config) {window.MathJax.Hub.Config({SVG: {font: \"STIX-Web\"}});}</script>                <script type=\"text/javascript\">window.PlotlyConfig = {MathJaxConfig: 'local'};</script>\n",
              "        <script charset=\"utf-8\" src=\"https://cdn.plot.ly/plotly-2.35.2.min.js\"></script>                <div id=\"ded4b4db-7a01-4b31-9f33-194f802cee99\" class=\"plotly-graph-div\" style=\"height:525px; width:100%;\"></div>            <script type=\"text/javascript\">                                    window.PLOTLYENV=window.PLOTLYENV || {};                                    if (document.getElementById(\"ded4b4db-7a01-4b31-9f33-194f802cee99\")) {                    Plotly.newPlot(                        \"ded4b4db-7a01-4b31-9f33-194f802cee99\",                        [{\"hovertemplate\":\"Category=A\\u003cbr\\u003eX=%{x}\\u003cbr\\u003eY=%{y}\\u003cbr\\u003eZ=%{z}\\u003cextra\\u003e\\u003c\\u002fextra\\u003e\",\"legendgroup\":\"A\",\"marker\":{\"color\":\"#636efa\",\"symbol\":\"circle\"},\"mode\":\"markers\",\"name\":\"A\",\"scene\":\"scene\",\"showlegend\":true,\"x\":[1,3,5],\"y\":[5,3,1],\"z\":[2,4,6],\"type\":\"scatter3d\"},{\"hovertemplate\":\"Category=B\\u003cbr\\u003eX=%{x}\\u003cbr\\u003eY=%{y}\\u003cbr\\u003eZ=%{z}\\u003cextra\\u003e\\u003c\\u002fextra\\u003e\",\"legendgroup\":\"B\",\"marker\":{\"color\":\"#EF553B\",\"symbol\":\"circle\"},\"mode\":\"markers\",\"name\":\"B\",\"scene\":\"scene\",\"showlegend\":true,\"x\":[2,4],\"y\":[4,2],\"z\":[3,5],\"type\":\"scatter3d\"}],                        {\"template\":{\"data\":{\"histogram2dcontour\":[{\"type\":\"histogram2dcontour\",\"colorbar\":{\"outlinewidth\":0,\"ticks\":\"\"},\"colorscale\":[[0.0,\"#0d0887\"],[0.1111111111111111,\"#46039f\"],[0.2222222222222222,\"#7201a8\"],[0.3333333333333333,\"#9c179e\"],[0.4444444444444444,\"#bd3786\"],[0.5555555555555556,\"#d8576b\"],[0.6666666666666666,\"#ed7953\"],[0.7777777777777778,\"#fb9f3a\"],[0.8888888888888888,\"#fdca26\"],[1.0,\"#f0f921\"]]}],\"choropleth\":[{\"type\":\"choropleth\",\"colorbar\":{\"outlinewidth\":0,\"ticks\":\"\"}}],\"histogram2d\":[{\"type\":\"histogram2d\",\"colorbar\":{\"outlinewidth\":0,\"ticks\":\"\"},\"colorscale\":[[0.0,\"#0d0887\"],[0.1111111111111111,\"#46039f\"],[0.2222222222222222,\"#7201a8\"],[0.3333333333333333,\"#9c179e\"],[0.4444444444444444,\"#bd3786\"],[0.5555555555555556,\"#d8576b\"],[0.6666666666666666,\"#ed7953\"],[0.7777777777777778,\"#fb9f3a\"],[0.8888888888888888,\"#fdca26\"],[1.0,\"#f0f921\"]]}],\"heatmap\":[{\"type\":\"heatmap\",\"colorbar\":{\"outlinewidth\":0,\"ticks\":\"\"},\"colorscale\":[[0.0,\"#0d0887\"],[0.1111111111111111,\"#46039f\"],[0.2222222222222222,\"#7201a8\"],[0.3333333333333333,\"#9c179e\"],[0.4444444444444444,\"#bd3786\"],[0.5555555555555556,\"#d8576b\"],[0.6666666666666666,\"#ed7953\"],[0.7777777777777778,\"#fb9f3a\"],[0.8888888888888888,\"#fdca26\"],[1.0,\"#f0f921\"]]}],\"heatmapgl\":[{\"type\":\"heatmapgl\",\"colorbar\":{\"outlinewidth\":0,\"ticks\":\"\"},\"colorscale\":[[0.0,\"#0d0887\"],[0.1111111111111111,\"#46039f\"],[0.2222222222222222,\"#7201a8\"],[0.3333333333333333,\"#9c179e\"],[0.4444444444444444,\"#bd3786\"],[0.5555555555555556,\"#d8576b\"],[0.6666666666666666,\"#ed7953\"],[0.7777777777777778,\"#fb9f3a\"],[0.8888888888888888,\"#fdca26\"],[1.0,\"#f0f921\"]]}],\"contourcarpet\":[{\"type\":\"contourcarpet\",\"colorbar\":{\"outlinewidth\":0,\"ticks\":\"\"}}],\"contour\":[{\"type\":\"contour\",\"colorbar\":{\"outlinewidth\":0,\"ticks\":\"\"},\"colorscale\":[[0.0,\"#0d0887\"],[0.1111111111111111,\"#46039f\"],[0.2222222222222222,\"#7201a8\"],[0.3333333333333333,\"#9c179e\"],[0.4444444444444444,\"#bd3786\"],[0.5555555555555556,\"#d8576b\"],[0.6666666666666666,\"#ed7953\"],[0.7777777777777778,\"#fb9f3a\"],[0.8888888888888888,\"#fdca26\"],[1.0,\"#f0f921\"]]}],\"surface\":[{\"type\":\"surface\",\"colorbar\":{\"outlinewidth\":0,\"ticks\":\"\"},\"colorscale\":[[0.0,\"#0d0887\"],[0.1111111111111111,\"#46039f\"],[0.2222222222222222,\"#7201a8\"],[0.3333333333333333,\"#9c179e\"],[0.4444444444444444,\"#bd3786\"],[0.5555555555555556,\"#d8576b\"],[0.6666666666666666,\"#ed7953\"],[0.7777777777777778,\"#fb9f3a\"],[0.8888888888888888,\"#fdca26\"],[1.0,\"#f0f921\"]]}],\"mesh3d\":[{\"type\":\"mesh3d\",\"colorbar\":{\"outlinewidth\":0,\"ticks\":\"\"}}],\"scatter\":[{\"fillpattern\":{\"fillmode\":\"overlay\",\"size\":10,\"solidity\":0.2},\"type\":\"scatter\"}],\"parcoords\":[{\"type\":\"parcoords\",\"line\":{\"colorbar\":{\"outlinewidth\":0,\"ticks\":\"\"}}}],\"scatterpolargl\":[{\"type\":\"scatterpolargl\",\"marker\":{\"colorbar\":{\"outlinewidth\":0,\"ticks\":\"\"}}}],\"bar\":[{\"error_x\":{\"color\":\"#2a3f5f\"},\"error_y\":{\"color\":\"#2a3f5f\"},\"marker\":{\"line\":{\"color\":\"#E5ECF6\",\"width\":0.5},\"pattern\":{\"fillmode\":\"overlay\",\"size\":10,\"solidity\":0.2}},\"type\":\"bar\"}],\"scattergeo\":[{\"type\":\"scattergeo\",\"marker\":{\"colorbar\":{\"outlinewidth\":0,\"ticks\":\"\"}}}],\"scatterpolar\":[{\"type\":\"scatterpolar\",\"marker\":{\"colorbar\":{\"outlinewidth\":0,\"ticks\":\"\"}}}],\"histogram\":[{\"marker\":{\"pattern\":{\"fillmode\":\"overlay\",\"size\":10,\"solidity\":0.2}},\"type\":\"histogram\"}],\"scattergl\":[{\"type\":\"scattergl\",\"marker\":{\"colorbar\":{\"outlinewidth\":0,\"ticks\":\"\"}}}],\"scatter3d\":[{\"type\":\"scatter3d\",\"line\":{\"colorbar\":{\"outlinewidth\":0,\"ticks\":\"\"}},\"marker\":{\"colorbar\":{\"outlinewidth\":0,\"ticks\":\"\"}}}],\"scattermapbox\":[{\"type\":\"scattermapbox\",\"marker\":{\"colorbar\":{\"outlinewidth\":0,\"ticks\":\"\"}}}],\"scatterternary\":[{\"type\":\"scatterternary\",\"marker\":{\"colorbar\":{\"outlinewidth\":0,\"ticks\":\"\"}}}],\"scattercarpet\":[{\"type\":\"scattercarpet\",\"marker\":{\"colorbar\":{\"outlinewidth\":0,\"ticks\":\"\"}}}],\"carpet\":[{\"aaxis\":{\"endlinecolor\":\"#2a3f5f\",\"gridcolor\":\"white\",\"linecolor\":\"white\",\"minorgridcolor\":\"white\",\"startlinecolor\":\"#2a3f5f\"},\"baxis\":{\"endlinecolor\":\"#2a3f5f\",\"gridcolor\":\"white\",\"linecolor\":\"white\",\"minorgridcolor\":\"white\",\"startlinecolor\":\"#2a3f5f\"},\"type\":\"carpet\"}],\"table\":[{\"cells\":{\"fill\":{\"color\":\"#EBF0F8\"},\"line\":{\"color\":\"white\"}},\"header\":{\"fill\":{\"color\":\"#C8D4E3\"},\"line\":{\"color\":\"white\"}},\"type\":\"table\"}],\"barpolar\":[{\"marker\":{\"line\":{\"color\":\"#E5ECF6\",\"width\":0.5},\"pattern\":{\"fillmode\":\"overlay\",\"size\":10,\"solidity\":0.2}},\"type\":\"barpolar\"}],\"pie\":[{\"automargin\":true,\"type\":\"pie\"}]},\"layout\":{\"autotypenumbers\":\"strict\",\"colorway\":[\"#636efa\",\"#EF553B\",\"#00cc96\",\"#ab63fa\",\"#FFA15A\",\"#19d3f3\",\"#FF6692\",\"#B6E880\",\"#FF97FF\",\"#FECB52\"],\"font\":{\"color\":\"#2a3f5f\"},\"hovermode\":\"closest\",\"hoverlabel\":{\"align\":\"left\"},\"paper_bgcolor\":\"white\",\"plot_bgcolor\":\"#E5ECF6\",\"polar\":{\"bgcolor\":\"#E5ECF6\",\"angularaxis\":{\"gridcolor\":\"white\",\"linecolor\":\"white\",\"ticks\":\"\"},\"radialaxis\":{\"gridcolor\":\"white\",\"linecolor\":\"white\",\"ticks\":\"\"}},\"ternary\":{\"bgcolor\":\"#E5ECF6\",\"aaxis\":{\"gridcolor\":\"white\",\"linecolor\":\"white\",\"ticks\":\"\"},\"baxis\":{\"gridcolor\":\"white\",\"linecolor\":\"white\",\"ticks\":\"\"},\"caxis\":{\"gridcolor\":\"white\",\"linecolor\":\"white\",\"ticks\":\"\"}},\"coloraxis\":{\"colorbar\":{\"outlinewidth\":0,\"ticks\":\"\"}},\"colorscale\":{\"sequential\":[[0.0,\"#0d0887\"],[0.1111111111111111,\"#46039f\"],[0.2222222222222222,\"#7201a8\"],[0.3333333333333333,\"#9c179e\"],[0.4444444444444444,\"#bd3786\"],[0.5555555555555556,\"#d8576b\"],[0.6666666666666666,\"#ed7953\"],[0.7777777777777778,\"#fb9f3a\"],[0.8888888888888888,\"#fdca26\"],[1.0,\"#f0f921\"]],\"sequentialminus\":[[0.0,\"#0d0887\"],[0.1111111111111111,\"#46039f\"],[0.2222222222222222,\"#7201a8\"],[0.3333333333333333,\"#9c179e\"],[0.4444444444444444,\"#bd3786\"],[0.5555555555555556,\"#d8576b\"],[0.6666666666666666,\"#ed7953\"],[0.7777777777777778,\"#fb9f3a\"],[0.8888888888888888,\"#fdca26\"],[1.0,\"#f0f921\"]],\"diverging\":[[0,\"#8e0152\"],[0.1,\"#c51b7d\"],[0.2,\"#de77ae\"],[0.3,\"#f1b6da\"],[0.4,\"#fde0ef\"],[0.5,\"#f7f7f7\"],[0.6,\"#e6f5d0\"],[0.7,\"#b8e186\"],[0.8,\"#7fbc41\"],[0.9,\"#4d9221\"],[1,\"#276419\"]]},\"xaxis\":{\"gridcolor\":\"white\",\"linecolor\":\"white\",\"ticks\":\"\",\"title\":{\"standoff\":15},\"zerolinecolor\":\"white\",\"automargin\":true,\"zerolinewidth\":2},\"yaxis\":{\"gridcolor\":\"white\",\"linecolor\":\"white\",\"ticks\":\"\",\"title\":{\"standoff\":15},\"zerolinecolor\":\"white\",\"automargin\":true,\"zerolinewidth\":2},\"scene\":{\"xaxis\":{\"backgroundcolor\":\"#E5ECF6\",\"gridcolor\":\"white\",\"linecolor\":\"white\",\"showbackground\":true,\"ticks\":\"\",\"zerolinecolor\":\"white\",\"gridwidth\":2},\"yaxis\":{\"backgroundcolor\":\"#E5ECF6\",\"gridcolor\":\"white\",\"linecolor\":\"white\",\"showbackground\":true,\"ticks\":\"\",\"zerolinecolor\":\"white\",\"gridwidth\":2},\"zaxis\":{\"backgroundcolor\":\"#E5ECF6\",\"gridcolor\":\"white\",\"linecolor\":\"white\",\"showbackground\":true,\"ticks\":\"\",\"zerolinecolor\":\"white\",\"gridwidth\":2}},\"shapedefaults\":{\"line\":{\"color\":\"#2a3f5f\"}},\"annotationdefaults\":{\"arrowcolor\":\"#2a3f5f\",\"arrowhead\":0,\"arrowwidth\":1},\"geo\":{\"bgcolor\":\"white\",\"landcolor\":\"#E5ECF6\",\"subunitcolor\":\"white\",\"showland\":true,\"showlakes\":true,\"lakecolor\":\"white\"},\"title\":{\"x\":0.05},\"mapbox\":{\"style\":\"light\"}}},\"scene\":{\"domain\":{\"x\":[0.0,1.0],\"y\":[0.0,1.0]},\"xaxis\":{\"title\":{\"text\":\"X\"}},\"yaxis\":{\"title\":{\"text\":\"Y\"}},\"zaxis\":{\"title\":{\"text\":\"Z\"}}},\"legend\":{\"title\":{\"text\":\"Category\"},\"tracegroupgap\":0},\"title\":{\"text\":\"3D Scatter Plot Example\"}},                        {\"responsive\": true}                    ).then(function(){\n",
              "                            \n",
              "var gd = document.getElementById('ded4b4db-7a01-4b31-9f33-194f802cee99');\n",
              "var x = new MutationObserver(function (mutations, observer) {{\n",
              "        var display = window.getComputedStyle(gd).display;\n",
              "        if (!display || display === 'none') {{\n",
              "            console.log([gd, 'removed!']);\n",
              "            Plotly.purge(gd);\n",
              "            observer.disconnect();\n",
              "        }}\n",
              "}});\n",
              "\n",
              "// Listen for the removal of the full notebook cells\n",
              "var notebookContainer = gd.closest('#notebook-container');\n",
              "if (notebookContainer) {{\n",
              "    x.observe(notebookContainer, {childList: true});\n",
              "}}\n",
              "\n",
              "// Listen for the clearing of the current output cell\n",
              "var outputEl = gd.closest('.output');\n",
              "if (outputEl) {{\n",
              "    x.observe(outputEl, {childList: true});\n",
              "}}\n",
              "\n",
              "                        })                };                            </script>        </div>\n",
              "</body>\n",
              "</html>"
            ]
          },
          "metadata": {}
        }
      ]
    },
    {
      "cell_type": "code",
      "source": [],
      "metadata": {
        "id": "fw9tJp_oh0CL"
      },
      "execution_count": null,
      "outputs": []
    }
  ]
}